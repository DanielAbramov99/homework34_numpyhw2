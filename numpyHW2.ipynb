{
 "cells": [
  {
   "cell_type": "code",
   "execution_count": 7,
   "id": "a7ebbbe6-936a-4f5a-b340-8132ea79a98c",
   "metadata": {},
   "outputs": [
    {
     "data": {
      "text/plain": [
       "array([[ 1,  2,  3,  4],\n",
       "       [ 5,  6,  7,  8],\n",
       "       [ 9, 10, 11, 12],\n",
       "       [13, 14, 15, 16]])"
      ]
     },
     "metadata": {},
     "output_type": "display_data"
    }
   ],
   "source": [
    "import numpy as np\n",
    "np.set_printoptions(suppress=True, formatter={'float_kind': '{:0.1f}'.format})\n",
    "from IPython.display import display\n",
    "\n",
    "array1= np.arange(1, 16+1)\n",
    "array1.shape=(4, 4)\n",
    "display(array1)"
   ]
  },
  {
   "cell_type": "code",
   "execution_count": 17,
   "id": "79b661b5-64c9-4f47-8463-b752aba273c4",
   "metadata": {},
   "outputs": [
    {
     "data": {
      "text/plain": [
       "array([[10, 15, 20, 25],\n",
       "       [30, 35, 40, 45]])"
      ]
     },
     "metadata": {},
     "output_type": "display_data"
    }
   ],
   "source": [
    "array2= np.arange(10,50, 5)\n",
    "array2.shape=(2,4)\n",
    "display(array2)"
   ]
  },
  {
   "cell_type": "code",
   "execution_count": 30,
   "id": "220d6101-6440-4cad-a02c-7477a63243ca",
   "metadata": {},
   "outputs": [
    {
     "data": {
      "text/plain": [
       "array([[51,  1, 58],\n",
       "       [12,  3, 81],\n",
       "       [92, 60, 40]])"
      ]
     },
     "metadata": {},
     "output_type": "display_data"
    },
    {
     "name": "stdout",
     "output_type": "stream",
     "text": [
      "max: 92\n",
      "min: 1\n"
     ]
    }
   ],
   "source": [
    "rand_array1 = np.random.randint(1, 101, (3, 3))\n",
    "display(rand_array1)\n",
    "print(\"max:\",rand_array1.max())\n",
    "print(\"min:\",rand_array1.min())"
   ]
  },
  {
   "cell_type": "code",
   "execution_count": 40,
   "id": "2c2a1d39-fb3a-4db4-b38a-1493ac23a5b1",
   "metadata": {},
   "outputs": [
    {
     "data": {
      "text/plain": [
       "array([ 0,  2,  4,  6,  8, 11, 13, 15, 17, 20])"
      ]
     },
     "metadata": {},
     "output_type": "display_data"
    },
    {
     "data": {
      "text/plain": [
       "array([0, 2, 4, 6, 8])"
      ]
     },
     "metadata": {},
     "output_type": "display_data"
    },
    {
     "data": {
      "text/plain": [
       "array([ 0,  4,  8, 13, 17])"
      ]
     },
     "metadata": {},
     "output_type": "display_data"
    },
    {
     "data": {
      "text/plain": [
       "array([20, 17, 15, 13, 11,  8,  6,  4,  2,  0])"
      ]
     },
     "metadata": {},
     "output_type": "display_data"
    }
   ],
   "source": [
    "array3= np.linspace(0,20, 10, dtype=int)\n",
    "display(array3)\n",
    "display(array3[0:5])\n",
    "display(array3[0::2])\n",
    "display(array3[::-1])\n"
   ]
  },
  {
   "cell_type": "code",
   "execution_count": 54,
   "id": "8a053722-e643-429e-8801-8a0a8098b10c",
   "metadata": {},
   "outputs": [
    {
     "data": {
      "text/plain": [
       "array([[24, 23, 12, 24, 20],\n",
       "       [10, 47, 43,  2, 33],\n",
       "       [ 7,  8, 12, 10, 10],\n",
       "       [10, 17, 14, 22,  2]])"
      ]
     },
     "metadata": {},
     "output_type": "display_data"
    },
    {
     "name": "stdout",
     "output_type": "stream",
     "text": [
      "second line: [10 47 43  2 33]\n",
      "fourth row: [24  2 10 22]\n"
     ]
    }
   ],
   "source": [
    "rand_array2 = np.random.randint(1, 51, (4, 5))\n",
    "display(rand_array2)\n",
    "print(\"second line:\",rand_array2[1, :])\n",
    "print(\"fourth row:\",rand_array2[:, 3])"
   ]
  },
  {
   "cell_type": "code",
   "execution_count": 87,
   "id": "e830e861-7d73-4135-8780-2b138e1bf8d8",
   "metadata": {},
   "outputs": [
    {
     "data": {
      "text/plain": [
       "array([[64, 96, 44, 14, 34, 93, 26, 55, 85, 91,  3, 73, 34,  3, 14]])"
      ]
     },
     "metadata": {},
     "output_type": "display_data"
    },
    {
     "name": "stdout",
     "output_type": "stream",
     "text": [
      "the index of the smallest number is: 10\n",
      "the index of the biggest number is: 1\n"
     ]
    }
   ],
   "source": [
    "rand_array3 = np.random.randint(1, 101, (1, 15))\n",
    "display(rand_array3)\n",
    "print(\"the index of the smallest number is:\",rand_array3.argmin())\n",
    "print(\"the index of the biggest number is:\",rand_array3.argmax())\n",
    "# rand_array3_copy=rand_array3.copy()\n",
    "# np.save(\"rand_array3_copy.npy\",rand_array3_copy)\n",
    "# rand_array3_saved=np.load(\"rand_array3_copy.npy\")\n",
    "\n",
    "\n",
    "\n",
    "\n"
   ]
  },
  {
   "cell_type": "code",
   "execution_count": 115,
   "id": "7d69422a-699f-490c-9899-acd8b98aa2d5",
   "metadata": {},
   "outputs": [
    {
     "data": {
      "text/plain": [
       "array([[41, 47, 63, 40,  9, 52,  6,  7, 73, 19,  3, 51, 12, 19, 74]])"
      ]
     },
     "metadata": {},
     "output_type": "display_data"
    },
    {
     "name": "stdout",
     "output_type": "stream",
     "text": [
      "numbers that divided by 5: [40]\n",
      "numbers between 10 and 50: [63  9 52  6  7 73  3 51 74]\n"
     ]
    }
   ],
   "source": [
    "display(rand_array3_saved)\n",
    "print(\"numbers that divided by 5:\",rand_array3_saved[(rand_array3_saved % 5 == 0)])\n",
    "print(\"numbers between 10 and 50:\",rand_array3_saved[(10>rand_array3_saved)|(rand_array3_saved>50)])"
   ]
  }
 ],
 "metadata": {
  "kernelspec": {
   "display_name": "Python 3 (ipykernel)",
   "language": "python",
   "name": "python3"
  },
  "language_info": {
   "codemirror_mode": {
    "name": "ipython",
    "version": 3
   },
   "file_extension": ".py",
   "mimetype": "text/x-python",
   "name": "python",
   "nbconvert_exporter": "python",
   "pygments_lexer": "ipython3",
   "version": "3.12.7"
  }
 },
 "nbformat": 4,
 "nbformat_minor": 5
}
